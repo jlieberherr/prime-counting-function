{
 "cells": [
  {
   "cell_type": "markdown",
   "id": "2b2df7ae-e007-4a59-95ca-bfe085ba5ff7",
   "metadata": {},
   "source": [
    "# Primzahlfaktorzerlegung bei grossen Primzahlen\n",
    "Ein kleines Jupyter-Notebook zur Demonstration, dass die Generierung und Multiplikation von zwei grossen Primzahlen viel schneller ist, als die Faktorisierung eines Produktes von zwei grossen Primzahlen."
   ]
  },
  {
   "cell_type": "code",
   "execution_count": 1,
   "id": "d75b9f9e-0d6f-4c40-8052-34d0e9c143ad",
   "metadata": {},
   "outputs": [],
   "source": [
    "import sympy\n",
    "from datetime import datetime"
   ]
  },
  {
   "cell_type": "code",
   "execution_count": 2,
   "id": "5000bad4-f3da-42e4-ba83-133f5454a680",
   "metadata": {},
   "outputs": [],
   "source": [
    "def format_number(n):\n",
    "    return str(format(n, \",\")).replace(\",\", \"'\")"
   ]
  },
  {
   "cell_type": "code",
   "execution_count": 30,
   "id": "5c695d0b-92bc-47a3-b34c-6f87abf22c6e",
   "metadata": {},
   "outputs": [],
   "source": [
    "NB_DIGITS = 30"
   ]
  },
  {
   "cell_type": "code",
   "execution_count": 31,
   "id": "79fca632-8f6d-46ab-bdd2-797742045a54",
   "metadata": {},
   "outputs": [
    {
     "name": "stdout",
     "output_type": "stream",
     "text": [
      "Erste Primzahl mit 23 stellen:\n",
      "97'943'450'001'396'219'812'773\n",
      "\n",
      "Zweite Primzahl mit 23 stellen:\n",
      "20'426'502'766'832'442'604'997\n",
      "\n",
      "Benötigte Zeit für die Erzeugung der beiden Primzahlen: 0:00:00.001041\n"
     ]
    }
   ],
   "source": [
    "start_time = datetime.now()\n",
    "\n",
    "p = sympy.randprime(10**(NB_DIGITS - 1), 10**NB_DIGITS - 1)\n",
    "q = sympy.randprime(10**(NB_DIGITS - 1), 10**NB_DIGITS - 1)\n",
    "\n",
    "end_time = datetime.now()\n",
    "\n",
    "print(f\"Erste Primzahl mit {NB_DIGITS} stellen:\\n{format_number(p)}\")\n",
    "print(f\"\\nZweite Primzahl mit {NB_DIGITS} stellen:\\n{format_number(q)}\")\n",
    "print(f\"\\nBenötigte Zeit für die Erzeugung der beiden Primzahlen: {end_time - start_time}\")"
   ]
  },
  {
   "cell_type": "code",
   "execution_count": 32,
   "id": "82b70914-3784-4aac-8b2e-e132c9c1bffa",
   "metadata": {},
   "outputs": [
    {
     "name": "stdout",
     "output_type": "stream",
     "text": [
      "Produkt der beiden Primzahlen (46 Stellen):\n",
      "2'000'642'152'446'634'888'529'107'379'138'211'179'734'226'681\n",
      "\n",
      "Benötigte Zeit für die Multiplikation der beiden Primzahlen: 0:00:00\n"
     ]
    }
   ],
   "source": [
    "start_time = datetime.now()\n",
    "\n",
    "a = p * q\n",
    "\n",
    "end_time = datetime.now()\n",
    "\n",
    "print(f\"Produkt der beiden Primzahlen ({len(str(a))} Stellen):\\n{format_number(a)}\")\n",
    "print(f\"\\nBenötigte Zeit für die Multiplikation der beiden Primzahlen: {end_time - start_time}\")"
   ]
  },
  {
   "cell_type": "code",
   "execution_count": 33,
   "id": "695d7353-0031-4ce0-8f61-c1ea8d7d81f8",
   "metadata": {},
   "outputs": [
    {
     "name": "stdout",
     "output_type": "stream",
     "text": [
      "Die berechneten Primfaktoren sind:\n",
      "{\"20'426'502'766'832'442'604'997\", \"97'943'450'001'396'219'812'773\"}\n",
      "Stimmen die berechneten Primfaktoren? True\n",
      "\n",
      "Benötigte Zeit für die Faktorisierung: 0:01:33.384132\n"
     ]
    }
   ],
   "source": [
    "start_time = datetime.now()\n",
    "\n",
    "factors = sympy.primefactors(a)\n",
    "\n",
    "end_time = datetime.now()\n",
    "\n",
    "factors_formatted = {format_number(x) for x in factors}\n",
    "print(f\"Die berechneten Primfaktoren sind:\\n{factors_formatted}\")\n",
    "print(f\"Stimmen die berechneten Primfaktoren? {set(factors) == {p, q}}\")\n",
    "print(f\"\\nBenötigte Zeit für die Faktorisierung: {end_time - start_time}\")"
   ]
  }
 ],
 "metadata": {
  "kernelspec": {
   "display_name": "Python 3 (ipykernel)",
   "language": "python",
   "name": "python3"
  },
  "language_info": {
   "codemirror_mode": {
    "name": "ipython",
    "version": 3
   },
   "file_extension": ".py",
   "mimetype": "text/x-python",
   "name": "python",
   "nbconvert_exporter": "python",
   "pygments_lexer": "ipython3",
   "version": "3.8.1"
  }
 },
 "nbformat": 4,
 "nbformat_minor": 5
}
