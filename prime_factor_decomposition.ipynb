{
 "cells": [
  {
   "cell_type": "markdown",
   "id": "2b2df7ae-e007-4a59-95ca-bfe085ba5ff7",
   "metadata": {},
   "source": [
    "# Primzahlfaktorzerlegung bei grossen Primzahlen\n",
    "Ein kleines Jupyter-Notebook zur Demonstration, dass die Generierung und Multiplikation von zwei grossen Primzahlen viel schneller ist, als die Faktorisierung eines Produktes von zwei grossen Primzahlen."
   ]
  },
  {
   "cell_type": "code",
   "execution_count": 1,
   "id": "d75b9f9e-0d6f-4c40-8052-34d0e9c143ad",
   "metadata": {},
   "outputs": [],
   "source": [
    "import sympy\n",
    "from datetime import datetime"
   ]
  },
  {
   "cell_type": "code",
   "execution_count": 2,
   "id": "5000bad4-f3da-42e4-ba83-133f5454a680",
   "metadata": {},
   "outputs": [],
   "source": [
    "def format_number(n):\n",
    "    return str(format(n, \",\")).replace(\",\", \"'\")"
   ]
  },
  {
   "cell_type": "markdown",
   "id": "9a7748ac-7d09-48c3-a703-8b470fd1a4b4",
   "metadata": {},
   "source": [
    "## Mit zufällig erzeugten Zahlen"
   ]
  },
  {
   "cell_type": "code",
   "execution_count": 3,
   "id": "5c695d0b-92bc-47a3-b34c-6f87abf22c6e",
   "metadata": {},
   "outputs": [],
   "source": [
    "NB_DIGITS = 20"
   ]
  },
  {
   "cell_type": "code",
   "execution_count": 4,
   "id": "79fca632-8f6d-46ab-bdd2-797742045a54",
   "metadata": {},
   "outputs": [
    {
     "name": "stdout",
     "output_type": "stream",
     "text": [
      "Erste Primzahl mit 20 stellen:\n",
      "86'754'018'550'165'212'409\n",
      "\n",
      "Zweite Primzahl mit 20 stellen:\n",
      "88'603'557'079'389'558'413\n",
      "\n",
      "Benötigte Zeit für die Erzeugung der beiden Primzahlen: 0:00:00\n"
     ]
    }
   ],
   "source": [
    "# generate tow primes with NB_DIGITS digits\n",
    "start_time = datetime.now()\n",
    "\n",
    "p = sympy.randprime(10**(NB_DIGITS - 1), 10**NB_DIGITS - 1)\n",
    "q = sympy.randprime(10**(NB_DIGITS - 1), 10**NB_DIGITS - 1)\n",
    "\n",
    "end_time = datetime.now()\n",
    "\n",
    "print(f\"Erste Primzahl mit {NB_DIGITS} stellen:\\n{format_number(p)}\")\n",
    "print(f\"\\nZweite Primzahl mit {NB_DIGITS} stellen:\\n{format_number(q)}\")\n",
    "print(f\"\\nBenötigte Zeit für die Erzeugung der beiden Primzahlen: {end_time - start_time}\")"
   ]
  },
  {
   "cell_type": "code",
   "execution_count": 5,
   "id": "82b70914-3784-4aac-8b2e-e132c9c1bffa",
   "metadata": {},
   "outputs": [
    {
     "name": "stdout",
     "output_type": "stream",
     "text": [
      "Produkt der beiden Primzahlen (40 Stellen):\n",
      "7'686'714'634'475'983'980'348'765'514'344'857'946'917\n",
      "\n",
      "Benötigte Zeit für die Multiplikation der beiden Primzahlen: 0:00:00\n"
     ]
    }
   ],
   "source": [
    "# multiply the two primes\n",
    "start_time = datetime.now()\n",
    "\n",
    "a = p * q\n",
    "\n",
    "end_time = datetime.now()\n",
    "\n",
    "print(f\"Produkt der beiden Primzahlen ({len(str(a))} Stellen):\\n{format_number(a)}\")\n",
    "print(f\"\\nBenötigte Zeit für die Multiplikation der beiden Primzahlen: {end_time - start_time}\")"
   ]
  },
  {
   "cell_type": "code",
   "execution_count": 6,
   "id": "695d7353-0031-4ce0-8f61-c1ea8d7d81f8",
   "metadata": {},
   "outputs": [
    {
     "name": "stdout",
     "output_type": "stream",
     "text": [
      "Die berechneten Primfaktoren sind:\n",
      "86'754'018'550'165'212'409\n",
      "88'603'557'079'389'558'413\n",
      "Stimmen die berechneten Primfaktoren mit den eingangs generierten Primzahlen überein? \n",
      "True\n",
      "\n",
      "Benötigte Zeit für die Faktorisierung: 0:00:21.083318\n"
     ]
    }
   ],
   "source": [
    "# factor the product of the two primes\n",
    "start_time = datetime.now()\n",
    "\n",
    "factors = sympy.primefactors(a)\n",
    "\n",
    "end_time = datetime.now()\n",
    "\n",
    "factors_formatted = {format_number(x) for x in factors}\n",
    "print(f\"Die berechneten Primfaktoren sind:\")\n",
    "for f in factors_formatted:\n",
    "    print(f)\n",
    "print(f\"Stimmen die berechneten Primfaktoren mit den eingangs generierten Primzahlen überein? \\n{set(factors) == {p, q}}\")\n",
    "print(f\"\\nBenötigte Zeit für die Faktorisierung: {end_time - start_time}\")"
   ]
  },
  {
   "cell_type": "markdown",
   "id": "d83e4717-13b9-47a5-a420-7302c0dd93df",
   "metadata": {},
   "source": [
    "## Mit RSA100 von der RSA Factoring Challenge\n",
    "siehe [RSA Factoring Challenge](https://en.wikipedia.org/wiki/RSA_Factoring_Challenge) und [RSA numers](https://en.wikipedia.org/wiki/RSA_numbers)"
   ]
  },
  {
   "cell_type": "code",
   "execution_count": 7,
   "id": "bdd8d5f5-9518-4606-b3ab-df7866acd444",
   "metadata": {},
   "outputs": [],
   "source": [
    "# this is the easiest number from this challenge\n",
    "rsa_100 = 1522605027922533360535618378132637429718068114961380688657908494580122963258952897654000350692006139"
   ]
  },
  {
   "cell_type": "code",
   "execution_count": 8,
   "id": "0bf7b1ee-92ff-47ad-beb3-7b42aae38130",
   "metadata": {},
   "outputs": [
    {
     "name": "stdout",
     "output_type": "stream",
     "text": [
      "Anzahl Stellen: 100\n"
     ]
    }
   ],
   "source": [
    "print(f\"Anzahl Stellen: {len(str(rsa_100))}\")"
   ]
  },
  {
   "cell_type": "code",
   "execution_count": 9,
   "id": "79d19834-ff32-486f-bdd5-c58ce8a230db",
   "metadata": {},
   "outputs": [],
   "source": [
    "p_rsa_100 = 37975227936943673922808872755445627854565536638199\n",
    "q_rsa_100 = 40094690950920881030683735292761468389214899724061"
   ]
  },
  {
   "cell_type": "code",
   "execution_count": 10,
   "id": "8e78e27a-9077-45ad-b3db-1fe5c918aed8",
   "metadata": {},
   "outputs": [],
   "source": [
    "rsa_100_calc = p_rsa_100 * q_rsa_100"
   ]
  },
  {
   "cell_type": "code",
   "execution_count": 11,
   "id": "e61686af-24d4-40a6-b90a-684d476148f6",
   "metadata": {},
   "outputs": [
    {
     "data": {
      "text/plain": [
       "True"
      ]
     },
     "execution_count": 11,
     "metadata": {},
     "output_type": "execute_result"
    }
   ],
   "source": [
    "rsa_100 == rsa_100_calc"
   ]
  },
  {
   "cell_type": "code",
   "execution_count": null,
   "id": "8f3c0dbe-dd2d-4884-a62e-182cafc08b32",
   "metadata": {},
   "outputs": [],
   "source": [
    "sympy.primefactors(rsa_100) # very long execution time!!!"
   ]
  }
 ],
 "metadata": {
  "kernelspec": {
   "display_name": "Python 3 (ipykernel)",
   "language": "python",
   "name": "python3"
  },
  "language_info": {
   "codemirror_mode": {
    "name": "ipython",
    "version": 3
   },
   "file_extension": ".py",
   "mimetype": "text/x-python",
   "name": "python",
   "nbconvert_exporter": "python",
   "pygments_lexer": "ipython3",
   "version": "3.8.1"
  }
 },
 "nbformat": 4,
 "nbformat_minor": 5
}
